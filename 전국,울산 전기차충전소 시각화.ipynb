{
 "cells": [
  {
   "cell_type": "code",
   "execution_count": 1,
   "metadata": {},
   "outputs": [],
   "source": [
    "import pandas as pd\n",
    "import numpy as np\n",
    "from plotnine import *\n",
    "import re"
   ]
  },
  {
   "cell_type": "code",
   "execution_count": 2,
   "metadata": {},
   "outputs": [],
   "source": [
    "import matplotlib\n",
    "from matplotlib import font_manager, rc\n",
    "\n",
    "font_name = font_manager.FontProperties(fname=\"c:/Windows/Fonts/malgun.ttf\").get_name()\n",
    "rc('font',family=font_name)\n",
    "\n",
    "matplotlib.rcParams['axes.unicode_minus'] = False"
   ]
  },
  {
   "cell_type": "code",
   "execution_count": 3,
   "metadata": {},
   "outputs": [
    {
     "data": {
      "text/plain": [
       "(2400, 22)"
      ]
     },
     "execution_count": 3,
     "metadata": {},
     "output_type": "execute_result"
    }
   ],
   "source": [
    "energy = pd.read_csv(r'C:\\Users\\namu1\\data\\energy.csv', encoding='euc-kr',engine='python') \n",
    "energy.shape"
   ]
  },
  {
   "cell_type": "code",
   "execution_count": 4,
   "metadata": {},
   "outputs": [
    {
     "data": {
      "text/html": [
       "<div>\n",
       "<style scoped>\n",
       "    .dataframe tbody tr th:only-of-type {\n",
       "        vertical-align: middle;\n",
       "    }\n",
       "\n",
       "    .dataframe tbody tr th {\n",
       "        vertical-align: top;\n",
       "    }\n",
       "\n",
       "    .dataframe thead th {\n",
       "        text-align: right;\n",
       "    }\n",
       "</style>\n",
       "<table border=\"1\" class=\"dataframe\">\n",
       "  <thead>\n",
       "    <tr style=\"text-align: right;\">\n",
       "      <th></th>\n",
       "      <th>충전소명</th>\n",
       "      <th>충전소위치상세</th>\n",
       "      <th>설치시도명</th>\n",
       "      <th>휴점일</th>\n",
       "      <th>이용가능시작시각</th>\n",
       "      <th>이용가능종료시각</th>\n",
       "      <th>완속충전가능여부</th>\n",
       "      <th>급속충전가능여부</th>\n",
       "      <th>급속충전타입구분</th>\n",
       "      <th>완속충전기대수</th>\n",
       "      <th>...</th>\n",
       "      <th>소재지도로명주소</th>\n",
       "      <th>소재지지번주소</th>\n",
       "      <th>관리업체명</th>\n",
       "      <th>관리업체전화번호</th>\n",
       "      <th>위도</th>\n",
       "      <th>경도</th>\n",
       "      <th>데이터기준일자</th>\n",
       "      <th>제공기관코드</th>\n",
       "      <th>제공기관명</th>\n",
       "      <th>Unnamed: 21</th>\n",
       "    </tr>\n",
       "  </thead>\n",
       "  <tbody>\n",
       "    <tr>\n",
       "      <th>0</th>\n",
       "      <td>DTC섬유박물관</td>\n",
       "      <td>지하1층 T6</td>\n",
       "      <td>대구광역시</td>\n",
       "      <td>연중무휴</td>\n",
       "      <td>00:00</td>\n",
       "      <td>00:00</td>\n",
       "      <td>N</td>\n",
       "      <td>Y</td>\n",
       "      <td>DC차데모+AC3상+DC콤보</td>\n",
       "      <td>0.0</td>\n",
       "      <td>...</td>\n",
       "      <td>대구광역시 동구 팔공로 227</td>\n",
       "      <td>대구광역시 동구 봉무동  1560-1</td>\n",
       "      <td>대구환경공단</td>\n",
       "      <td>053-605-8060</td>\n",
       "      <td>35.918978</td>\n",
       "      <td>128.639976</td>\n",
       "      <td>2018-03-14</td>\n",
       "      <td>6270000</td>\n",
       "      <td>대구광역시</td>\n",
       "      <td>NaN</td>\n",
       "    </tr>\n",
       "    <tr>\n",
       "      <th>1</th>\n",
       "      <td>갓바위공영3주차장</td>\n",
       "      <td>입구 우측</td>\n",
       "      <td>대구광역시</td>\n",
       "      <td>연중무휴</td>\n",
       "      <td>07:00</td>\n",
       "      <td>20:00</td>\n",
       "      <td>Y</td>\n",
       "      <td>N</td>\n",
       "      <td>NaN</td>\n",
       "      <td>3.0</td>\n",
       "      <td>...</td>\n",
       "      <td>대구광역시 동구 갓바위로 227</td>\n",
       "      <td>대구광역시 동구 진인동  123-74</td>\n",
       "      <td>대구환경공단</td>\n",
       "      <td>053-605-8060</td>\n",
       "      <td>35.970798</td>\n",
       "      <td>128.725896</td>\n",
       "      <td>2018-03-14</td>\n",
       "      <td>6270000</td>\n",
       "      <td>대구광역시</td>\n",
       "      <td>NaN</td>\n",
       "    </tr>\n",
       "    <tr>\n",
       "      <th>2</th>\n",
       "      <td>갓바위공영5주차장</td>\n",
       "      <td>입구 우측</td>\n",
       "      <td>대구광역시</td>\n",
       "      <td>연중무휴</td>\n",
       "      <td>07:00</td>\n",
       "      <td>20:00</td>\n",
       "      <td>N</td>\n",
       "      <td>Y</td>\n",
       "      <td>DC차데모+AC3상+DC콤보</td>\n",
       "      <td>0.0</td>\n",
       "      <td>...</td>\n",
       "      <td>대구광역시 동구 진인동 123-38</td>\n",
       "      <td>대구광역시 동구 진인동  123-38</td>\n",
       "      <td>대구환경공단</td>\n",
       "      <td>053-605-8060</td>\n",
       "      <td>35.969378</td>\n",
       "      <td>128.726065</td>\n",
       "      <td>2018-03-14</td>\n",
       "      <td>6270000</td>\n",
       "      <td>대구광역시</td>\n",
       "      <td>NaN</td>\n",
       "    </tr>\n",
       "  </tbody>\n",
       "</table>\n",
       "<p>3 rows × 22 columns</p>\n",
       "</div>"
      ],
      "text/plain": [
       "        충전소명  충전소위치상세  설치시도명   휴점일 이용가능시작시각 이용가능종료시각 완속충전가능여부 급속충전가능여부  \\\n",
       "0   DTC섬유박물관  지하1층 T6  대구광역시  연중무휴    00:00    00:00        N        Y   \n",
       "1  갓바위공영3주차장    입구 우측  대구광역시  연중무휴    07:00    20:00        Y        N   \n",
       "2  갓바위공영5주차장    입구 우측  대구광역시  연중무휴    07:00    20:00        N        Y   \n",
       "\n",
       "          급속충전타입구분  완속충전기대수     ...                 소재지도로명주소  \\\n",
       "0  DC차데모+AC3상+DC콤보      0.0     ...         대구광역시 동구 팔공로 227   \n",
       "1              NaN      3.0     ...        대구광역시 동구 갓바위로 227   \n",
       "2  DC차데모+AC3상+DC콤보      0.0     ...      대구광역시 동구 진인동 123-38   \n",
       "\n",
       "                소재지지번주소   관리업체명      관리업체전화번호         위도          경도  \\\n",
       "0  대구광역시 동구 봉무동  1560-1  대구환경공단  053-605-8060  35.918978  128.639976   \n",
       "1  대구광역시 동구 진인동  123-74  대구환경공단  053-605-8060  35.970798  128.725896   \n",
       "2  대구광역시 동구 진인동  123-38  대구환경공단  053-605-8060  35.969378  128.726065   \n",
       "\n",
       "      데이터기준일자   제공기관코드  제공기관명 Unnamed: 21  \n",
       "0  2018-03-14  6270000  대구광역시         NaN  \n",
       "1  2018-03-14  6270000  대구광역시         NaN  \n",
       "2  2018-03-14  6270000  대구광역시         NaN  \n",
       "\n",
       "[3 rows x 22 columns]"
      ]
     },
     "execution_count": 4,
     "metadata": {},
     "output_type": "execute_result"
    }
   ],
   "source": [
    "energy.head(3)"
   ]
  },
  {
   "cell_type": "code",
   "execution_count": 5,
   "metadata": {},
   "outputs": [
    {
     "data": {
      "text/plain": [
       "Index(['충전소명', '충전소위치상세', '설치시도명', '휴점일', '이용가능시작시각', '이용가능종료시각', '완속충전가능여부',\n",
       "       '급속충전가능여부', '급속충전타입구분', '완속충전기대수', '급속충전기대수', '주차료부과여부', '소재지도로명주소',\n",
       "       '소재지지번주소', '관리업체명', '관리업체전화번호', '위도', '경도', '데이터기준일자', '제공기관코드',\n",
       "       '제공기관명', 'Unnamed: 21'],\n",
       "      dtype='object')"
      ]
     },
     "execution_count": 5,
     "metadata": {},
     "output_type": "execute_result"
    }
   ],
   "source": [
    "energy.columns"
   ]
  },
  {
   "cell_type": "code",
   "execution_count": 6,
   "metadata": {},
   "outputs": [],
   "source": [
    "energy.drop(columns=['충전소위치상세', '설치시도명', '휴점일', '이용가능시작시각', '이용가능종료시각', '급속충전타입구분', '완속충전기대수', '급속충전기대수','주차료부과여부', \n",
    "        '관리업체명', '관리업체전화번호', '데이터기준일자', '제공기관코드',\n",
    "       '제공기관명', 'Unnamed: 21'], inplace=True)"
   ]
  },
  {
   "cell_type": "code",
   "execution_count": 7,
   "metadata": {},
   "outputs": [
    {
     "data": {
      "text/plain": [
       "Index(['충전소명', '완속충전가능여부', '급속충전가능여부', '소재지도로명주소', '소재지지번주소', '위도', '경도'], dtype='object')"
      ]
     },
     "execution_count": 7,
     "metadata": {},
     "output_type": "execute_result"
    }
   ],
   "source": [
    "energy.columns"
   ]
  },
  {
   "cell_type": "code",
   "execution_count": 8,
   "metadata": {},
   "outputs": [
    {
     "data": {
      "image/png": "[encoded data removed]",
      "text/plain": [
       "<Figure size 640x480 with 1 Axes>"
      ]
     },
     "metadata": {},
     "output_type": "display_data"
    },
    {
     "data": {
      "text/plain": [
       "<ggplot: (119799994502)>"
      ]
     },
     "execution_count": 8,
     "metadata": {},
     "output_type": "execute_result"
    }
   ],
   "source": [
    "(ggplot(energy)\n",
    "+ aes(x='경도', y='위도')\n",
    "+ geom_point()\n",
    "+ theme(text=element_text(family='HYGothic-Medium'))\n",
    ")"
   ]
  },
  {
   "cell_type": "code",
   "execution_count": 9,
   "metadata": {},
   "outputs": [
    {
     "data": {
      "text/plain": [
       "충전소명         object\n",
       "완속충전가능여부     object\n",
       "급속충전가능여부     object\n",
       "소재지도로명주소     object\n",
       "소재지지번주소      object\n",
       "위도          float64\n",
       "경도          float64\n",
       "dtype: object"
      ]
     },
     "execution_count": 9,
     "metadata": {},
     "output_type": "execute_result"
    }
   ],
   "source": [
    "energy.dtypes"
   ]
  },
  {
   "cell_type": "code",
   "execution_count": 10,
   "metadata": {},
   "outputs": [
    {
     "data": {
      "text/plain": [
       "<matplotlib.axes._subplots.AxesSubplot at 0x1be4a62e3c8>"
      ]
     },
     "execution_count": 10,
     "metadata": {},
     "output_type": "execute_result"
    },
    {
     "data": {
      "image/png": "[encoded data removed]",
      "text/plain": [
       "<Figure size 1296x432 with 2 Axes>"
      ]
     },
     "metadata": {
      "needs_background": "light"
     },
     "output_type": "display_data"
    }
   ],
   "source": [
    "import missingno as msno\n",
    "msno.matrix(energy, figsize=(18,6))"
   ]
  },
  {
   "cell_type": "code",
   "execution_count": 11,
   "metadata": {},
   "outputs": [
    {
     "data": {
      "text/plain": [
       "78"
      ]
     },
     "execution_count": 11,
     "metadata": {},
     "output_type": "execute_result"
    }
   ],
   "source": [
    "energy['소재지도로명주소'].isnull().sum()"
   ]
  },
  {
   "cell_type": "code",
   "execution_count": 12,
   "metadata": {},
   "outputs": [
    {
     "data": {
      "text/plain": [
       "548"
      ]
     },
     "execution_count": 12,
     "metadata": {},
     "output_type": "execute_result"
    }
   ],
   "source": [
    "energy['소재지지번주소'].isnull().sum()"
   ]
  },
  {
   "cell_type": "code",
   "execution_count": 13,
   "metadata": {},
   "outputs": [
    {
     "data": {
      "text/plain": [
       "(78, 7)"
      ]
     },
     "execution_count": 13,
     "metadata": {},
     "output_type": "execute_result"
    }
   ],
   "source": [
    "energy.loc[(energy['소재지도로명주소'].isnull()) & (energy['소재지지번주소'].notnull())].shape"
   ]
  },
  {
   "cell_type": "code",
   "execution_count": 14,
   "metadata": {},
   "outputs": [],
   "source": [
    "energy['소재지도로명주소'].fillna(energy['소재지지번주소'], inplace = True)"
   ]
  },
  {
   "cell_type": "code",
   "execution_count": 15,
   "metadata": {},
   "outputs": [
    {
     "data": {
      "text/plain": [
       "0"
      ]
     },
     "execution_count": 15,
     "metadata": {},
     "output_type": "execute_result"
    }
   ],
   "source": [
    "energy['소재지도로명주소'].isnull().sum()"
   ]
  },
  {
   "cell_type": "code",
   "execution_count": 16,
   "metadata": {},
   "outputs": [
    {
     "data": {
      "text/plain": [
       "(0, 7)"
      ]
     },
     "execution_count": 16,
     "metadata": {},
     "output_type": "execute_result"
    }
   ],
   "source": [
    "energy_loc=energy.loc[(energy['소재지도로명주소'].isnull()) & (energy['소재지지번주소'].notnull())]\n",
    "energy_loc.shape"
   ]
  },
  {
   "cell_type": "code",
   "execution_count": 17,
   "metadata": {
    "scrolled": false
   },
   "outputs": [
    {
     "data": {
      "text/html": [
       "<div>\n",
       "<style scoped>\n",
       "    .dataframe tbody tr th:only-of-type {\n",
       "        vertical-align: middle;\n",
       "    }\n",
       "\n",
       "    .dataframe tbody tr th {\n",
       "        vertical-align: top;\n",
       "    }\n",
       "\n",
       "    .dataframe thead th {\n",
       "        text-align: right;\n",
       "    }\n",
       "</style>\n",
       "<table border=\"1\" class=\"dataframe\">\n",
       "  <thead>\n",
       "    <tr style=\"text-align: right;\">\n",
       "      <th></th>\n",
       "      <th>충전소명</th>\n",
       "      <th>완속충전가능여부</th>\n",
       "      <th>급속충전가능여부</th>\n",
       "      <th>소재지도로명주소</th>\n",
       "      <th>소재지지번주소</th>\n",
       "      <th>위도</th>\n",
       "      <th>경도</th>\n",
       "      <th>시도</th>\n",
       "    </tr>\n",
       "  </thead>\n",
       "  <tbody>\n",
       "    <tr>\n",
       "      <th>0</th>\n",
       "      <td>DTC섬유박물관</td>\n",
       "      <td>N</td>\n",
       "      <td>Y</td>\n",
       "      <td>대구광역시 동구 팔공로 227</td>\n",
       "      <td>대구광역시 동구 봉무동  1560-1</td>\n",
       "      <td>35.918978</td>\n",
       "      <td>128.639976</td>\n",
       "      <td>대구광역시</td>\n",
       "    </tr>\n",
       "    <tr>\n",
       "      <th>1</th>\n",
       "      <td>갓바위공영3주차장</td>\n",
       "      <td>Y</td>\n",
       "      <td>N</td>\n",
       "      <td>대구광역시 동구 갓바위로 227</td>\n",
       "      <td>대구광역시 동구 진인동  123-74</td>\n",
       "      <td>35.970798</td>\n",
       "      <td>128.725896</td>\n",
       "      <td>대구광역시</td>\n",
       "    </tr>\n",
       "    <tr>\n",
       "      <th>2</th>\n",
       "      <td>갓바위공영5주차장</td>\n",
       "      <td>N</td>\n",
       "      <td>Y</td>\n",
       "      <td>대구광역시 동구 진인동 123-38</td>\n",
       "      <td>대구광역시 동구 진인동  123-38</td>\n",
       "      <td>35.969378</td>\n",
       "      <td>128.726065</td>\n",
       "      <td>대구광역시</td>\n",
       "    </tr>\n",
       "  </tbody>\n",
       "</table>\n",
       "</div>"
      ],
      "text/plain": [
       "        충전소명 완속충전가능여부 급속충전가능여부             소재지도로명주소               소재지지번주소  \\\n",
       "0   DTC섬유박물관        N        Y     대구광역시 동구 팔공로 227  대구광역시 동구 봉무동  1560-1   \n",
       "1  갓바위공영3주차장        Y        N    대구광역시 동구 갓바위로 227  대구광역시 동구 진인동  123-74   \n",
       "2  갓바위공영5주차장        N        Y  대구광역시 동구 진인동 123-38  대구광역시 동구 진인동  123-38   \n",
       "\n",
       "          위도          경도     시도  \n",
       "0  35.918978  128.639976  대구광역시  \n",
       "1  35.970798  128.725896  대구광역시  \n",
       "2  35.969378  128.726065  대구광역시  "
      ]
     },
     "execution_count": 17,
     "metadata": {},
     "output_type": "execute_result"
    }
   ],
   "source": [
    "energy['시도'] = energy['소재지도로명주소'].str.split(' ', expand=True)[0]\n",
    "energy.head(3)"
   ]
  },
  {
   "cell_type": "code",
   "execution_count": 18,
   "metadata": {
    "scrolled": false
   },
   "outputs": [
    {
     "data": {
      "text/html": [
       "<div>\n",
       "<style scoped>\n",
       "    .dataframe tbody tr th:only-of-type {\n",
       "        vertical-align: middle;\n",
       "    }\n",
       "\n",
       "    .dataframe tbody tr th {\n",
       "        vertical-align: top;\n",
       "    }\n",
       "\n",
       "    .dataframe thead th {\n",
       "        text-align: right;\n",
       "    }\n",
       "</style>\n",
       "<table border=\"1\" class=\"dataframe\">\n",
       "  <thead>\n",
       "    <tr style=\"text-align: right;\">\n",
       "      <th></th>\n",
       "      <th>충전소명</th>\n",
       "      <th>완속충전가능여부</th>\n",
       "      <th>급속충전가능여부</th>\n",
       "      <th>소재지도로명주소</th>\n",
       "      <th>소재지지번주소</th>\n",
       "      <th>위도</th>\n",
       "      <th>경도</th>\n",
       "      <th>시도</th>\n",
       "      <th>구군</th>\n",
       "    </tr>\n",
       "  </thead>\n",
       "  <tbody>\n",
       "    <tr>\n",
       "      <th>0</th>\n",
       "      <td>DTC섬유박물관</td>\n",
       "      <td>N</td>\n",
       "      <td>Y</td>\n",
       "      <td>대구광역시 동구 팔공로 227</td>\n",
       "      <td>대구광역시 동구 봉무동  1560-1</td>\n",
       "      <td>35.918978</td>\n",
       "      <td>128.639976</td>\n",
       "      <td>대구광역시</td>\n",
       "      <td>동구</td>\n",
       "    </tr>\n",
       "    <tr>\n",
       "      <th>1</th>\n",
       "      <td>갓바위공영3주차장</td>\n",
       "      <td>Y</td>\n",
       "      <td>N</td>\n",
       "      <td>대구광역시 동구 갓바위로 227</td>\n",
       "      <td>대구광역시 동구 진인동  123-74</td>\n",
       "      <td>35.970798</td>\n",
       "      <td>128.725896</td>\n",
       "      <td>대구광역시</td>\n",
       "      <td>동구</td>\n",
       "    </tr>\n",
       "    <tr>\n",
       "      <th>2</th>\n",
       "      <td>갓바위공영5주차장</td>\n",
       "      <td>N</td>\n",
       "      <td>Y</td>\n",
       "      <td>대구광역시 동구 진인동 123-38</td>\n",
       "      <td>대구광역시 동구 진인동  123-38</td>\n",
       "      <td>35.969378</td>\n",
       "      <td>128.726065</td>\n",
       "      <td>대구광역시</td>\n",
       "      <td>동구</td>\n",
       "    </tr>\n",
       "  </tbody>\n",
       "</table>\n",
       "</div>"
      ],
      "text/plain": [
       "        충전소명 완속충전가능여부 급속충전가능여부             소재지도로명주소               소재지지번주소  \\\n",
       "0   DTC섬유박물관        N        Y     대구광역시 동구 팔공로 227  대구광역시 동구 봉무동  1560-1   \n",
       "1  갓바위공영3주차장        Y        N    대구광역시 동구 갓바위로 227  대구광역시 동구 진인동  123-74   \n",
       "2  갓바위공영5주차장        N        Y  대구광역시 동구 진인동 123-38  대구광역시 동구 진인동  123-38   \n",
       "\n",
       "          위도          경도     시도  구군  \n",
       "0  35.918978  128.639976  대구광역시  동구  \n",
       "1  35.970798  128.725896  대구광역시  동구  \n",
       "2  35.969378  128.726065  대구광역시  동구  "
      ]
     },
     "execution_count": 18,
     "metadata": {},
     "output_type": "execute_result"
    }
   ],
   "source": [
    "energy['구군'] = energy['소재지도로명주소'].str.split(' ', expand=True)[1]\n",
    "energy.head(3)"
   ]
  },
  {
   "cell_type": "code",
   "execution_count": 19,
   "metadata": {},
   "outputs": [
    {
     "data": {
      "text/html": [
       "<div>\n",
       "<style scoped>\n",
       "    .dataframe tbody tr th:only-of-type {\n",
       "        vertical-align: middle;\n",
       "    }\n",
       "\n",
       "    .dataframe tbody tr th {\n",
       "        vertical-align: top;\n",
       "    }\n",
       "\n",
       "    .dataframe thead th {\n",
       "        text-align: right;\n",
       "    }\n",
       "</style>\n",
       "<table border=\"1\" class=\"dataframe\">\n",
       "  <thead>\n",
       "    <tr style=\"text-align: right;\">\n",
       "      <th></th>\n",
       "      <th>위도</th>\n",
       "      <th>경도</th>\n",
       "    </tr>\n",
       "  </thead>\n",
       "  <tbody>\n",
       "    <tr>\n",
       "      <th>count</th>\n",
       "      <td>2400.000000</td>\n",
       "      <td>2400.000000</td>\n",
       "    </tr>\n",
       "    <tr>\n",
       "      <th>mean</th>\n",
       "      <td>35.516757</td>\n",
       "      <td>125.688737</td>\n",
       "    </tr>\n",
       "    <tr>\n",
       "      <th>std</th>\n",
       "      <td>4.407354</td>\n",
       "      <td>14.641276</td>\n",
       "    </tr>\n",
       "    <tr>\n",
       "      <th>min</th>\n",
       "      <td>0.000000</td>\n",
       "      <td>0.000000</td>\n",
       "    </tr>\n",
       "    <tr>\n",
       "      <th>25%</th>\n",
       "      <td>34.938665</td>\n",
       "      <td>126.767072</td>\n",
       "    </tr>\n",
       "    <tr>\n",
       "      <th>50%</th>\n",
       "      <td>36.006191</td>\n",
       "      <td>127.037292</td>\n",
       "    </tr>\n",
       "    <tr>\n",
       "      <th>75%</th>\n",
       "      <td>37.493324</td>\n",
       "      <td>127.732071</td>\n",
       "    </tr>\n",
       "    <tr>\n",
       "      <th>max</th>\n",
       "      <td>38.380616</td>\n",
       "      <td>130.904714</td>\n",
       "    </tr>\n",
       "  </tbody>\n",
       "</table>\n",
       "</div>"
      ],
      "text/plain": [
       "                위도           경도\n",
       "count  2400.000000  2400.000000\n",
       "mean     35.516757   125.688737\n",
       "std       4.407354    14.641276\n",
       "min       0.000000     0.000000\n",
       "25%      34.938665   126.767072\n",
       "50%      36.006191   127.037292\n",
       "75%      37.493324   127.732071\n",
       "max      38.380616   130.904714"
      ]
     },
     "execution_count": 19,
     "metadata": {},
     "output_type": "execute_result"
    }
   ],
   "source": [
    "energy[['위도','경도']].describe()"
   ]
  },
  {
   "cell_type": "code",
   "execution_count": 20,
   "metadata": {},
   "outputs": [
    {
     "data": {
      "text/plain": [
       "(2368, 9)"
      ]
     },
     "execution_count": 20,
     "metadata": {},
     "output_type": "execute_result"
    }
   ],
   "source": [
    "energy_loc_notnull = energy.loc[(energy['위도'] > 32) & (energy['경도'] < 132) & energy['시도'].notnull()]\n",
    "energy_loc_notnull.shape"
   ]
  },
  {
   "cell_type": "code",
   "execution_count": 21,
   "metadata": {},
   "outputs": [
    {
     "data": {
      "text/html": [
       "<div>\n",
       "<style scoped>\n",
       "    .dataframe tbody tr th:only-of-type {\n",
       "        vertical-align: middle;\n",
       "    }\n",
       "\n",
       "    .dataframe tbody tr th {\n",
       "        vertical-align: top;\n",
       "    }\n",
       "\n",
       "    .dataframe thead th {\n",
       "        text-align: right;\n",
       "    }\n",
       "</style>\n",
       "<table border=\"1\" class=\"dataframe\">\n",
       "  <thead>\n",
       "    <tr style=\"text-align: right;\">\n",
       "      <th></th>\n",
       "      <th>충전소명</th>\n",
       "      <th>완속충전가능여부</th>\n",
       "      <th>급속충전가능여부</th>\n",
       "      <th>소재지도로명주소</th>\n",
       "      <th>소재지지번주소</th>\n",
       "      <th>위도</th>\n",
       "      <th>경도</th>\n",
       "      <th>시도</th>\n",
       "      <th>구군</th>\n",
       "    </tr>\n",
       "  </thead>\n",
       "  <tbody>\n",
       "    <tr>\n",
       "      <th>2103</th>\n",
       "      <td>홈플러스 구월점</td>\n",
       "      <td>N</td>\n",
       "      <td>Y</td>\n",
       "      <td>인천광역시 남동구 예술로 198, 지하주차장 4층,I4구역</td>\n",
       "      <td>인천광역시 남동구 구월동 1130</td>\n",
       "      <td>0.0</td>\n",
       "      <td>0.0</td>\n",
       "      <td>인천광역시</td>\n",
       "      <td>남동구</td>\n",
       "    </tr>\n",
       "    <tr>\n",
       "      <th>2104</th>\n",
       "      <td>중부지방고용노동청 별관 앞</td>\n",
       "      <td>N</td>\n",
       "      <td>Y</td>\n",
       "      <td>인천광역시 남동구 구월동 1111-6 중부지방고용노동청 별관 앞</td>\n",
       "      <td>인천광역시 남동구 구월동 1111-6</td>\n",
       "      <td>0.0</td>\n",
       "      <td>0.0</td>\n",
       "      <td>인천광역시</td>\n",
       "      <td>남동구</td>\n",
       "    </tr>\n",
       "    <tr>\n",
       "      <th>2105</th>\n",
       "      <td>인천시청</td>\n",
       "      <td>N</td>\n",
       "      <td>Y</td>\n",
       "      <td>인천광역시 남동구 정각로 29, 정문 우측 경비실 앞(구월동 1138)</td>\n",
       "      <td>인천광역시 남동구 구월동 1138</td>\n",
       "      <td>0.0</td>\n",
       "      <td>0.0</td>\n",
       "      <td>인천광역시</td>\n",
       "      <td>남동구</td>\n",
       "    </tr>\n",
       "    <tr>\n",
       "      <th>2106</th>\n",
       "      <td>LH인천본부</td>\n",
       "      <td>N</td>\n",
       "      <td>Y</td>\n",
       "      <td>인천광역시 남동구 논현로46번길 23</td>\n",
       "      <td>인천광역시 남동구 논현동 639-1</td>\n",
       "      <td>0.0</td>\n",
       "      <td>0.0</td>\n",
       "      <td>인천광역시</td>\n",
       "      <td>남동구</td>\n",
       "    </tr>\n",
       "    <tr>\n",
       "      <th>2107</th>\n",
       "      <td>인천대공원사업소</td>\n",
       "      <td>Y</td>\n",
       "      <td>N</td>\n",
       "      <td>인천광역시 남동구 무미네로 236</td>\n",
       "      <td>인천광역시 남동구 장수동 408</td>\n",
       "      <td>0.0</td>\n",
       "      <td>0.0</td>\n",
       "      <td>인천광역시</td>\n",
       "      <td>남동구</td>\n",
       "    </tr>\n",
       "    <tr>\n",
       "      <th>2108</th>\n",
       "      <td>인천대공원사업소 정문</td>\n",
       "      <td>Y</td>\n",
       "      <td>N</td>\n",
       "      <td>인천광역시 남동구 무미네로 238</td>\n",
       "      <td>인천광역시 남동구 장수동 408</td>\n",
       "      <td>0.0</td>\n",
       "      <td>0.0</td>\n",
       "      <td>인천광역시</td>\n",
       "      <td>남동구</td>\n",
       "    </tr>\n",
       "    <tr>\n",
       "      <th>2109</th>\n",
       "      <td>인천광역시 LGBEASTSHOP(남동구청점)</td>\n",
       "      <td>Y</td>\n",
       "      <td>N</td>\n",
       "      <td>인천광역시 남동구 소래로 688 주차장</td>\n",
       "      <td>인천광역시 남동구 만수동 377</td>\n",
       "      <td>0.0</td>\n",
       "      <td>0.0</td>\n",
       "      <td>인천광역시</td>\n",
       "      <td>남동구</td>\n",
       "    </tr>\n",
       "    <tr>\n",
       "      <th>2110</th>\n",
       "      <td>한전KDN 인천지사</td>\n",
       "      <td>Y</td>\n",
       "      <td>N</td>\n",
       "      <td>인천광역시 남동구 인주대로 855 주차장</td>\n",
       "      <td>인천광역시 남동구 만수동 984-2</td>\n",
       "      <td>0.0</td>\n",
       "      <td>0.0</td>\n",
       "      <td>인천광역시</td>\n",
       "      <td>남동구</td>\n",
       "    </tr>\n",
       "    <tr>\n",
       "      <th>2111</th>\n",
       "      <td>인천서부 시승센터</td>\n",
       "      <td>Y</td>\n",
       "      <td>N</td>\n",
       "      <td>인천광역시 남동구 인주대로 629</td>\n",
       "      <td>인천광역시 남동구 구월동 1145-7</td>\n",
       "      <td>0.0</td>\n",
       "      <td>0.0</td>\n",
       "      <td>인천광역시</td>\n",
       "      <td>남동구</td>\n",
       "    </tr>\n",
       "    <tr>\n",
       "      <th>2112</th>\n",
       "      <td>고잔점 블루핸즈</td>\n",
       "      <td>Y</td>\n",
       "      <td>N</td>\n",
       "      <td>인천광역시 남동구 은청로 26-24</td>\n",
       "      <td>인천광역시 남동구 고잔동 634-5</td>\n",
       "      <td>0.0</td>\n",
       "      <td>0.0</td>\n",
       "      <td>인천광역시</td>\n",
       "      <td>남동구</td>\n",
       "    </tr>\n",
       "    <tr>\n",
       "      <th>2113</th>\n",
       "      <td>서창LH7단지 아파트</td>\n",
       "      <td>Y</td>\n",
       "      <td>N</td>\n",
       "      <td>인천광역시 남동구 서창남순환로 190-15, 717동 지하1층 1-2라인 부근</td>\n",
       "      <td>인천광역시 남동구 서창동 699</td>\n",
       "      <td>0.0</td>\n",
       "      <td>0.0</td>\n",
       "      <td>인천광역시</td>\n",
       "      <td>남동구</td>\n",
       "    </tr>\n",
       "    <tr>\n",
       "      <th>2114</th>\n",
       "      <td>서창LH7단지 아파트</td>\n",
       "      <td>N</td>\n",
       "      <td>Y</td>\n",
       "      <td>인천광역시 남동구 서창남순환로 190-15, 717동 지하1층 1-2라인 부근</td>\n",
       "      <td>인천광역시 남동구 서창동 699</td>\n",
       "      <td>0.0</td>\n",
       "      <td>0.0</td>\n",
       "      <td>인천광역시</td>\n",
       "      <td>남동구</td>\n",
       "    </tr>\n",
       "    <tr>\n",
       "      <th>2115</th>\n",
       "      <td>광장주유소</td>\n",
       "      <td>N</td>\n",
       "      <td>Y</td>\n",
       "      <td>인천광역시 남동구 남동대로 458(남촌동)</td>\n",
       "      <td>인천광역시 남동구 남촌동 510-163</td>\n",
       "      <td>0.0</td>\n",
       "      <td>0.0</td>\n",
       "      <td>인천광역시</td>\n",
       "      <td>남동구</td>\n",
       "    </tr>\n",
       "    <tr>\n",
       "      <th>2116</th>\n",
       "      <td>형제전기</td>\n",
       "      <td>Y</td>\n",
       "      <td>N</td>\n",
       "      <td>인천광역시 남동구 남동대로 150(고잔동)</td>\n",
       "      <td>인천광역시 남동구 고잔동 672</td>\n",
       "      <td>0.0</td>\n",
       "      <td>0.0</td>\n",
       "      <td>인천광역시</td>\n",
       "      <td>남동구</td>\n",
       "    </tr>\n",
       "    <tr>\n",
       "      <th>2117</th>\n",
       "      <td>소래포구종합어시장</td>\n",
       "      <td>Y</td>\n",
       "      <td>N</td>\n",
       "      <td>인천광역시 남동구 소래역로 12(논현동)</td>\n",
       "      <td>인천광역시 남동구 논현동 680-1</td>\n",
       "      <td>0.0</td>\n",
       "      <td>0.0</td>\n",
       "      <td>인천광역시</td>\n",
       "      <td>남동구</td>\n",
       "    </tr>\n",
       "    <tr>\n",
       "      <th>2118</th>\n",
       "      <td>논현2동주민센터</td>\n",
       "      <td>Y</td>\n",
       "      <td>N</td>\n",
       "      <td>인천광역시 남동구 논현고잔로 248(논현동)</td>\n",
       "      <td>인천광역시 남동구 논현동 633-3</td>\n",
       "      <td>0.0</td>\n",
       "      <td>0.0</td>\n",
       "      <td>인천광역시</td>\n",
       "      <td>남동구</td>\n",
       "    </tr>\n",
       "    <tr>\n",
       "      <th>2119</th>\n",
       "      <td>논현1동주민센터</td>\n",
       "      <td>Y</td>\n",
       "      <td>N</td>\n",
       "      <td>인천광역시 남동구 소래역로 115(논현동)</td>\n",
       "      <td>인천광역시 남동구 논현동 603-5</td>\n",
       "      <td>0.0</td>\n",
       "      <td>0.0</td>\n",
       "      <td>인천광역시</td>\n",
       "      <td>남동구</td>\n",
       "    </tr>\n",
       "    <tr>\n",
       "      <th>2120</th>\n",
       "      <td>논현고잔주민센터</td>\n",
       "      <td>Y</td>\n",
       "      <td>N</td>\n",
       "      <td>인천광역시 남동구 앵고개로847번길 32</td>\n",
       "      <td>인천광역시 남동구 논현동 744-4</td>\n",
       "      <td>0.0</td>\n",
       "      <td>0.0</td>\n",
       "      <td>인천광역시</td>\n",
       "      <td>남동구</td>\n",
       "    </tr>\n",
       "    <tr>\n",
       "      <th>2121</th>\n",
       "      <td>장수서창동주민센터</td>\n",
       "      <td>Y</td>\n",
       "      <td>N</td>\n",
       "      <td>인천광역시 남동구 독곡로 28(서창동)</td>\n",
       "      <td>인천광역시 남동구 서창동 558-2</td>\n",
       "      <td>0.0</td>\n",
       "      <td>0.0</td>\n",
       "      <td>인천광역시</td>\n",
       "      <td>남동구</td>\n",
       "    </tr>\n",
       "    <tr>\n",
       "      <th>2122</th>\n",
       "      <td>만수6동</td>\n",
       "      <td>Y</td>\n",
       "      <td>N</td>\n",
       "      <td>인천광역시 남동구 장승남로 47</td>\n",
       "      <td>인천광역시 남동구 만수동 1020</td>\n",
       "      <td>0.0</td>\n",
       "      <td>0.0</td>\n",
       "      <td>인천광역시</td>\n",
       "      <td>남동구</td>\n",
       "    </tr>\n",
       "    <tr>\n",
       "      <th>2123</th>\n",
       "      <td>만수1동</td>\n",
       "      <td>Y</td>\n",
       "      <td>N</td>\n",
       "      <td>인천광역시 남동구 인주대로 851</td>\n",
       "      <td>인천광역시 남동구 만수동 983-5 1296-6</td>\n",
       "      <td>0.0</td>\n",
       "      <td>0.0</td>\n",
       "      <td>인천광역시</td>\n",
       "      <td>남동구</td>\n",
       "    </tr>\n",
       "    <tr>\n",
       "      <th>2124</th>\n",
       "      <td>구월4동</td>\n",
       "      <td>Y</td>\n",
       "      <td>N</td>\n",
       "      <td>인천광역시 남동구 구월말로 7</td>\n",
       "      <td>인천광역시 남동구 구월동 1296-6</td>\n",
       "      <td>0.0</td>\n",
       "      <td>0.0</td>\n",
       "      <td>인천광역시</td>\n",
       "      <td>남동구</td>\n",
       "    </tr>\n",
       "    <tr>\n",
       "      <th>2125</th>\n",
       "      <td>만수4동</td>\n",
       "      <td>Y</td>\n",
       "      <td>N</td>\n",
       "      <td>인천광역시 남동구 만수동50번길 39(만수동)</td>\n",
       "      <td>인천광역시 남동구 만수동 50</td>\n",
       "      <td>0.0</td>\n",
       "      <td>0.0</td>\n",
       "      <td>인천광역시</td>\n",
       "      <td>남동구</td>\n",
       "    </tr>\n",
       "    <tr>\n",
       "      <th>2126</th>\n",
       "      <td>만수5동</td>\n",
       "      <td>Y</td>\n",
       "      <td>N</td>\n",
       "      <td>인천광역시 남동구 만경로28번길 3</td>\n",
       "      <td>인천광역시 남동구 만수동 876</td>\n",
       "      <td>0.0</td>\n",
       "      <td>0.0</td>\n",
       "      <td>인천광역시</td>\n",
       "      <td>남동구</td>\n",
       "    </tr>\n",
       "    <tr>\n",
       "      <th>2127</th>\n",
       "      <td>만수2동</td>\n",
       "      <td>Y</td>\n",
       "      <td>N</td>\n",
       "      <td>인천광역시 남동구 만수서로 46</td>\n",
       "      <td>인천광역시 남동구 만수동 1116-2</td>\n",
       "      <td>0.0</td>\n",
       "      <td>0.0</td>\n",
       "      <td>인천광역시</td>\n",
       "      <td>남동구</td>\n",
       "    </tr>\n",
       "    <tr>\n",
       "      <th>2128</th>\n",
       "      <td>만수3동</td>\n",
       "      <td>Y</td>\n",
       "      <td>N</td>\n",
       "      <td>인천광역시 남동구 서판로 11</td>\n",
       "      <td>인천광역시 남동구 만수동 847-1</td>\n",
       "      <td>0.0</td>\n",
       "      <td>0.0</td>\n",
       "      <td>인천광역시</td>\n",
       "      <td>남동구</td>\n",
       "    </tr>\n",
       "    <tr>\n",
       "      <th>2129</th>\n",
       "      <td>구월2동</td>\n",
       "      <td>Y</td>\n",
       "      <td>N</td>\n",
       "      <td>인천광역시 남동구 구월로 208</td>\n",
       "      <td>인천광역시 남동구 구월동 23-1</td>\n",
       "      <td>0.0</td>\n",
       "      <td>0.0</td>\n",
       "      <td>인천광역시</td>\n",
       "      <td>남동구</td>\n",
       "    </tr>\n",
       "    <tr>\n",
       "      <th>2130</th>\n",
       "      <td>간석3동</td>\n",
       "      <td>Y</td>\n",
       "      <td>N</td>\n",
       "      <td>인천광역시 남동구 용천로 186</td>\n",
       "      <td>인천광역시 남동구 간석동 49-1</td>\n",
       "      <td>0.0</td>\n",
       "      <td>0.0</td>\n",
       "      <td>인천광역시</td>\n",
       "      <td>남동구</td>\n",
       "    </tr>\n",
       "    <tr>\n",
       "      <th>2131</th>\n",
       "      <td>간석1동</td>\n",
       "      <td>Y</td>\n",
       "      <td>N</td>\n",
       "      <td>인천광역시 남동구 구월로137번길 39</td>\n",
       "      <td>인천광역시 남동구 간석동 353-4</td>\n",
       "      <td>0.0</td>\n",
       "      <td>0.0</td>\n",
       "      <td>인천광역시</td>\n",
       "      <td>남동구</td>\n",
       "    </tr>\n",
       "    <tr>\n",
       "      <th>2132</th>\n",
       "      <td>구월3동</td>\n",
       "      <td>Y</td>\n",
       "      <td>N</td>\n",
       "      <td>인천광역시 남동구 문화서로 84</td>\n",
       "      <td>인천광역시 남동구 구월동 1098-7</td>\n",
       "      <td>0.0</td>\n",
       "      <td>0.0</td>\n",
       "      <td>인천광역시</td>\n",
       "      <td>남동구</td>\n",
       "    </tr>\n",
       "    <tr>\n",
       "      <th>2320</th>\n",
       "      <td>삼미노상주차장</td>\n",
       "      <td>Y</td>\n",
       "      <td>N</td>\n",
       "      <td>경기도 시흥시 신천동 731 지상1층주차장(시흥시 신천동731 지상1층주차장)</td>\n",
       "      <td>경기도 시흥시 신천동 731 지상1층주차장(시흥시 신천동731 지상1층주차장)</td>\n",
       "      <td>0.0</td>\n",
       "      <td>0.0</td>\n",
       "      <td>경기도</td>\n",
       "      <td>시흥시</td>\n",
       "    </tr>\n",
       "    <tr>\n",
       "      <th>2338</th>\n",
       "      <td>시흥상공휴게소</td>\n",
       "      <td>N</td>\n",
       "      <td>Y</td>\n",
       "      <td>경기도 시흥시 조남동</td>\n",
       "      <td>NaN</td>\n",
       "      <td>0.0</td>\n",
       "      <td>0.0</td>\n",
       "      <td>경기도</td>\n",
       "      <td>시흥시</td>\n",
       "    </tr>\n",
       "  </tbody>\n",
       "</table>\n",
       "</div>"
      ],
      "text/plain": [
       "                          충전소명 완속충전가능여부 급속충전가능여부  \\\n",
       "2103                  홈플러스 구월점        N        Y   \n",
       "2104            중부지방고용노동청 별관 앞        N        Y   \n",
       "2105                      인천시청        N        Y   \n",
       "2106                    LH인천본부        N        Y   \n",
       "2107                  인천대공원사업소        Y        N   \n",
       "2108               인천대공원사업소 정문        Y        N   \n",
       "2109  인천광역시 LGBEASTSHOP(남동구청점)        Y        N   \n",
       "2110                한전KDN 인천지사        Y        N   \n",
       "2111                 인천서부 시승센터        Y        N   \n",
       "2112                  고잔점 블루핸즈        Y        N   \n",
       "2113               서창LH7단지 아파트        Y        N   \n",
       "2114               서창LH7단지 아파트        N        Y   \n",
       "2115                     광장주유소        N        Y   \n",
       "2116                      형제전기        Y        N   \n",
       "2117                 소래포구종합어시장        Y        N   \n",
       "2118                  논현2동주민센터        Y        N   \n",
       "2119                  논현1동주민센터        Y        N   \n",
       "2120                  논현고잔주민센터        Y        N   \n",
       "2121                 장수서창동주민센터        Y        N   \n",
       "2122                      만수6동        Y        N   \n",
       "2123                      만수1동        Y        N   \n",
       "2124                      구월4동        Y        N   \n",
       "2125                      만수4동        Y        N   \n",
       "2126                      만수5동        Y        N   \n",
       "2127                      만수2동        Y        N   \n",
       "2128                      만수3동        Y        N   \n",
       "2129                      구월2동        Y        N   \n",
       "2130                      간석3동        Y        N   \n",
       "2131                      간석1동        Y        N   \n",
       "2132                      구월3동        Y        N   \n",
       "2320                   삼미노상주차장        Y        N   \n",
       "2338                   시흥상공휴게소        N        Y   \n",
       "\n",
       "                                         소재지도로명주소  \\\n",
       "2103             인천광역시 남동구 예술로 198, 지하주차장 4층,I4구역   \n",
       "2104          인천광역시 남동구 구월동 1111-6 중부지방고용노동청 별관 앞   \n",
       "2105      인천광역시 남동구 정각로 29, 정문 우측 경비실 앞(구월동 1138)   \n",
       "2106                         인천광역시 남동구 논현로46번길 23   \n",
       "2107                           인천광역시 남동구 무미네로 236   \n",
       "2108                           인천광역시 남동구 무미네로 238   \n",
       "2109                        인천광역시 남동구 소래로 688 주차장   \n",
       "2110                       인천광역시 남동구 인주대로 855 주차장   \n",
       "2111                           인천광역시 남동구 인주대로 629   \n",
       "2112                          인천광역시 남동구 은청로 26-24   \n",
       "2113  인천광역시 남동구 서창남순환로 190-15, 717동 지하1층 1-2라인 부근   \n",
       "2114  인천광역시 남동구 서창남순환로 190-15, 717동 지하1층 1-2라인 부근   \n",
       "2115                      인천광역시 남동구 남동대로 458(남촌동)   \n",
       "2116                      인천광역시 남동구 남동대로 150(고잔동)   \n",
       "2117                       인천광역시 남동구 소래역로 12(논현동)   \n",
       "2118                     인천광역시 남동구 논현고잔로 248(논현동)   \n",
       "2119                      인천광역시 남동구 소래역로 115(논현동)   \n",
       "2120                       인천광역시 남동구 앵고개로847번길 32   \n",
       "2121                        인천광역시 남동구 독곡로 28(서창동)   \n",
       "2122                            인천광역시 남동구 장승남로 47   \n",
       "2123                           인천광역시 남동구 인주대로 851   \n",
       "2124                             인천광역시 남동구 구월말로 7   \n",
       "2125                    인천광역시 남동구 만수동50번길 39(만수동)   \n",
       "2126                          인천광역시 남동구 만경로28번길 3   \n",
       "2127                            인천광역시 남동구 만수서로 46   \n",
       "2128                             인천광역시 남동구 서판로 11   \n",
       "2129                            인천광역시 남동구 구월로 208   \n",
       "2130                            인천광역시 남동구 용천로 186   \n",
       "2131                        인천광역시 남동구 구월로137번길 39   \n",
       "2132                            인천광역시 남동구 문화서로 84   \n",
       "2320  경기도 시흥시 신천동 731 지상1층주차장(시흥시 신천동731 지상1층주차장)   \n",
       "2338                                  경기도 시흥시 조남동   \n",
       "\n",
       "                                          소재지지번주소   위도   경도     시도   구군  \n",
       "2103                           인천광역시 남동구 구월동 1130  0.0  0.0  인천광역시  남동구  \n",
       "2104                         인천광역시 남동구 구월동 1111-6  0.0  0.0  인천광역시  남동구  \n",
       "2105                           인천광역시 남동구 구월동 1138  0.0  0.0  인천광역시  남동구  \n",
       "2106                          인천광역시 남동구 논현동 639-1  0.0  0.0  인천광역시  남동구  \n",
       "2107                            인천광역시 남동구 장수동 408  0.0  0.0  인천광역시  남동구  \n",
       "2108                            인천광역시 남동구 장수동 408  0.0  0.0  인천광역시  남동구  \n",
       "2109                            인천광역시 남동구 만수동 377  0.0  0.0  인천광역시  남동구  \n",
       "2110                          인천광역시 남동구 만수동 984-2  0.0  0.0  인천광역시  남동구  \n",
       "2111                         인천광역시 남동구 구월동 1145-7  0.0  0.0  인천광역시  남동구  \n",
       "2112                          인천광역시 남동구 고잔동 634-5  0.0  0.0  인천광역시  남동구  \n",
       "2113                            인천광역시 남동구 서창동 699  0.0  0.0  인천광역시  남동구  \n",
       "2114                            인천광역시 남동구 서창동 699  0.0  0.0  인천광역시  남동구  \n",
       "2115                        인천광역시 남동구 남촌동 510-163  0.0  0.0  인천광역시  남동구  \n",
       "2116                            인천광역시 남동구 고잔동 672  0.0  0.0  인천광역시  남동구  \n",
       "2117                          인천광역시 남동구 논현동 680-1  0.0  0.0  인천광역시  남동구  \n",
       "2118                          인천광역시 남동구 논현동 633-3  0.0  0.0  인천광역시  남동구  \n",
       "2119                          인천광역시 남동구 논현동 603-5  0.0  0.0  인천광역시  남동구  \n",
       "2120                          인천광역시 남동구 논현동 744-4  0.0  0.0  인천광역시  남동구  \n",
       "2121                          인천광역시 남동구 서창동 558-2  0.0  0.0  인천광역시  남동구  \n",
       "2122                           인천광역시 남동구 만수동 1020  0.0  0.0  인천광역시  남동구  \n",
       "2123                   인천광역시 남동구 만수동 983-5 1296-6  0.0  0.0  인천광역시  남동구  \n",
       "2124                         인천광역시 남동구 구월동 1296-6  0.0  0.0  인천광역시  남동구  \n",
       "2125                             인천광역시 남동구 만수동 50  0.0  0.0  인천광역시  남동구  \n",
       "2126                            인천광역시 남동구 만수동 876  0.0  0.0  인천광역시  남동구  \n",
       "2127                         인천광역시 남동구 만수동 1116-2  0.0  0.0  인천광역시  남동구  \n",
       "2128                          인천광역시 남동구 만수동 847-1  0.0  0.0  인천광역시  남동구  \n",
       "2129                           인천광역시 남동구 구월동 23-1  0.0  0.0  인천광역시  남동구  \n",
       "2130                           인천광역시 남동구 간석동 49-1  0.0  0.0  인천광역시  남동구  \n",
       "2131                          인천광역시 남동구 간석동 353-4  0.0  0.0  인천광역시  남동구  \n",
       "2132                         인천광역시 남동구 구월동 1098-7  0.0  0.0  인천광역시  남동구  \n",
       "2320  경기도 시흥시 신천동 731 지상1층주차장(시흥시 신천동731 지상1층주차장)  0.0  0.0    경기도  시흥시  \n",
       "2338                                          NaN  0.0  0.0    경기도  시흥시  "
      ]
     },
     "execution_count": 21,
     "metadata": {},
     "output_type": "execute_result"
    }
   ],
   "source": [
    "energy.loc[(energy['위도'] < 26 | (energy['경도'] >=132))]"
   ]
  },
  {
   "cell_type": "code",
   "execution_count": 22,
   "metadata": {
    "scrolled": false
   },
   "outputs": [
    {
     "data": {
      "image/png": "[encoded data removed]",
      "text/plain": [
       "<Figure size 640x480 with 1 Axes>"
      ]
     },
     "metadata": {},
     "output_type": "display_data"
    },
    {
     "data": {
      "text/plain": [
       "<ggplot: (-9223371917054233635)>"
      ]
     },
     "execution_count": 22,
     "metadata": {},
     "output_type": "execute_result"
    }
   ],
   "source": [
    "(ggplot(energy_loc_notnull)\n",
    "+ aes(x='경도', y='위도', color='시도')\n",
    "+ geom_point()\n",
    "+ theme(text = element_text(family='HYGothic-Medium'))\n",
    ")"
   ]
  },
  {
   "cell_type": "code",
   "execution_count": 23,
   "metadata": {},
   "outputs": [
    {
     "data": {
      "text/plain": [
       "서울특별시      439\n",
       "제주특별자치도    430\n",
       "경기도        359\n",
       "전라남도       175\n",
       "전라북도       136\n",
       "경상남도       133\n",
       "경상북도       112\n",
       "울산광역시      108\n",
       "강원도        103\n",
       "대구광역시       85\n",
       "충청남도        83\n",
       "충청북도        80\n",
       "부산광역시       46\n",
       "광주광역시       36\n",
       "대전광역시       20\n",
       "인천광역시       18\n",
       "세종특별자치시      5\n",
       "Name: 시도, dtype: int64"
      ]
     },
     "execution_count": 23,
     "metadata": {},
     "output_type": "execute_result"
    }
   ],
   "source": [
    "energy_loc_notnull['시도'].value_counts()"
   ]
  },
  {
   "cell_type": "code",
   "execution_count": 24,
   "metadata": {},
   "outputs": [
    {
     "data": {
      "text/html": [
       "<div>\n",
       "<style scoped>\n",
       "    .dataframe tbody tr th:only-of-type {\n",
       "        vertical-align: middle;\n",
       "    }\n",
       "\n",
       "    .dataframe tbody tr th {\n",
       "        vertical-align: top;\n",
       "    }\n",
       "\n",
       "    .dataframe thead th {\n",
       "        text-align: right;\n",
       "    }\n",
       "</style>\n",
       "<table border=\"1\" class=\"dataframe\">\n",
       "  <thead>\n",
       "    <tr style=\"text-align: right;\">\n",
       "      <th></th>\n",
       "      <th>시도</th>\n",
       "      <th>합계</th>\n",
       "      <th>비율</th>\n",
       "    </tr>\n",
       "  </thead>\n",
       "  <tbody>\n",
       "    <tr>\n",
       "      <th>0</th>\n",
       "      <td>서울특별시</td>\n",
       "      <td>439</td>\n",
       "      <td>0.182917</td>\n",
       "    </tr>\n",
       "    <tr>\n",
       "      <th>1</th>\n",
       "      <td>제주특별자치도</td>\n",
       "      <td>430</td>\n",
       "      <td>0.179167</td>\n",
       "    </tr>\n",
       "    <tr>\n",
       "      <th>2</th>\n",
       "      <td>경기도</td>\n",
       "      <td>361</td>\n",
       "      <td>0.150417</td>\n",
       "    </tr>\n",
       "    <tr>\n",
       "      <th>3</th>\n",
       "      <td>전라남도</td>\n",
       "      <td>175</td>\n",
       "      <td>0.072917</td>\n",
       "    </tr>\n",
       "    <tr>\n",
       "      <th>4</th>\n",
       "      <td>전라북도</td>\n",
       "      <td>136</td>\n",
       "      <td>0.056667</td>\n",
       "    </tr>\n",
       "    <tr>\n",
       "      <th>5</th>\n",
       "      <td>경상남도</td>\n",
       "      <td>133</td>\n",
       "      <td>0.055417</td>\n",
       "    </tr>\n",
       "    <tr>\n",
       "      <th>6</th>\n",
       "      <td>경상북도</td>\n",
       "      <td>112</td>\n",
       "      <td>0.046667</td>\n",
       "    </tr>\n",
       "    <tr>\n",
       "      <th>7</th>\n",
       "      <td>울산광역시</td>\n",
       "      <td>108</td>\n",
       "      <td>0.045000</td>\n",
       "    </tr>\n",
       "    <tr>\n",
       "      <th>8</th>\n",
       "      <td>강원도</td>\n",
       "      <td>103</td>\n",
       "      <td>0.042917</td>\n",
       "    </tr>\n",
       "    <tr>\n",
       "      <th>9</th>\n",
       "      <td>대구광역시</td>\n",
       "      <td>85</td>\n",
       "      <td>0.035417</td>\n",
       "    </tr>\n",
       "    <tr>\n",
       "      <th>10</th>\n",
       "      <td>충청남도</td>\n",
       "      <td>83</td>\n",
       "      <td>0.034583</td>\n",
       "    </tr>\n",
       "    <tr>\n",
       "      <th>11</th>\n",
       "      <td>충청북도</td>\n",
       "      <td>80</td>\n",
       "      <td>0.033333</td>\n",
       "    </tr>\n",
       "    <tr>\n",
       "      <th>12</th>\n",
       "      <td>인천광역시</td>\n",
       "      <td>48</td>\n",
       "      <td>0.020000</td>\n",
       "    </tr>\n",
       "    <tr>\n",
       "      <th>13</th>\n",
       "      <td>부산광역시</td>\n",
       "      <td>46</td>\n",
       "      <td>0.019167</td>\n",
       "    </tr>\n",
       "    <tr>\n",
       "      <th>14</th>\n",
       "      <td>광주광역시</td>\n",
       "      <td>36</td>\n",
       "      <td>0.015000</td>\n",
       "    </tr>\n",
       "    <tr>\n",
       "      <th>15</th>\n",
       "      <td>대전광역시</td>\n",
       "      <td>20</td>\n",
       "      <td>0.008333</td>\n",
       "    </tr>\n",
       "    <tr>\n",
       "      <th>16</th>\n",
       "      <td>세종특별자치시</td>\n",
       "      <td>5</td>\n",
       "      <td>0.002083</td>\n",
       "    </tr>\n",
       "  </tbody>\n",
       "</table>\n",
       "</div>"
      ],
      "text/plain": [
       "         시도   합계        비율\n",
       "0     서울특별시  439  0.182917\n",
       "1   제주특별자치도  430  0.179167\n",
       "2       경기도  361  0.150417\n",
       "3      전라남도  175  0.072917\n",
       "4      전라북도  136  0.056667\n",
       "5      경상남도  133  0.055417\n",
       "6      경상북도  112  0.046667\n",
       "7     울산광역시  108  0.045000\n",
       "8       강원도  103  0.042917\n",
       "9     대구광역시   85  0.035417\n",
       "10     충청남도   83  0.034583\n",
       "11     충청북도   80  0.033333\n",
       "12    인천광역시   48  0.020000\n",
       "13    부산광역시   46  0.019167\n",
       "14    광주광역시   36  0.015000\n",
       "15    대전광역시   20  0.008333\n",
       "16  세종특별자치시    5  0.002083"
      ]
     },
     "execution_count": 24,
     "metadata": {},
     "output_type": "execute_result"
    }
   ],
   "source": [
    "energy_do = pd.DataFrame(energy['시도'].value_counts())\n",
    "energy_do_normalize = pd.DataFrame(energy['시도'].value_counts(normalize=True))\n",
    "energy_sido = energy_do.merge(energy_do_normalize, left_index=True, right_index=True).reset_index()\n",
    "energy_sido.columns = ['시도','합계','비율']\n",
    "energy_sido.sort_values(by=['합계'], ascending=False)\n",
    "energy_sido"
   ]
  },
  {
   "cell_type": "code",
   "execution_count": 25,
   "metadata": {},
   "outputs": [
    {
     "data": {
      "image/png": "[encoded data removed]",
      "text/plain": [
       "<Figure size 640x480 with 1 Axes>"
      ]
     },
     "metadata": {},
     "output_type": "display_data"
    },
    {
     "data": {
      "text/plain": [
       "<ggplot: (-9223371917054783516)>"
      ]
     },
     "execution_count": 25,
     "metadata": {},
     "output_type": "execute_result"
    }
   ],
   "source": [
    "(ggplot(energy_sido.sort_values(by=['합계'], ascending=False))\n",
    " + aes(x='시도', y='합계')\n",
    " + geom_bar(stat='identity',position='dodge',fill='orange')\n",
    " + coord_flip()\n",
    " + theme(text=element_text(family='HYGothic-Medium'))\n",
    ")"
   ]
  },
  {
   "cell_type": "code",
   "execution_count": 26,
   "metadata": {},
   "outputs": [
    {
     "data": {
      "text/plain": [
       "(108, 9)"
      ]
     },
     "execution_count": 26,
     "metadata": {},
     "output_type": "execute_result"
    }
   ],
   "source": [
    "ulsan = energy.loc[energy['시도'] == '울산광역시']\n",
    "ulsan.shape"
   ]
  },
  {
   "cell_type": "code",
   "execution_count": 27,
   "metadata": {},
   "outputs": [
    {
     "data": {
      "text/html": [
       "<div>\n",
       "<style scoped>\n",
       "    .dataframe tbody tr th:only-of-type {\n",
       "        vertical-align: middle;\n",
       "    }\n",
       "\n",
       "    .dataframe tbody tr th {\n",
       "        vertical-align: top;\n",
       "    }\n",
       "\n",
       "    .dataframe thead th {\n",
       "        text-align: right;\n",
       "    }\n",
       "</style>\n",
       "<table border=\"1\" class=\"dataframe\">\n",
       "  <thead>\n",
       "    <tr style=\"text-align: right;\">\n",
       "      <th></th>\n",
       "      <th>충전소명</th>\n",
       "      <th>완속충전가능여부</th>\n",
       "      <th>급속충전가능여부</th>\n",
       "      <th>소재지도로명주소</th>\n",
       "      <th>소재지지번주소</th>\n",
       "      <th>위도</th>\n",
       "      <th>경도</th>\n",
       "      <th>시도</th>\n",
       "      <th>구군</th>\n",
       "    </tr>\n",
       "  </thead>\n",
       "  <tbody>\n",
       "    <tr>\n",
       "      <th>56</th>\n",
       "      <td>울산광역시 북구청</td>\n",
       "      <td>N</td>\n",
       "      <td>Y</td>\n",
       "      <td>울산광역시 북구 산업로 1010</td>\n",
       "      <td>울산광역시 북구 연암동 1004-1</td>\n",
       "      <td>35.582457</td>\n",
       "      <td>129.361133</td>\n",
       "      <td>울산광역시</td>\n",
       "      <td>북구</td>\n",
       "    </tr>\n",
       "    <tr>\n",
       "      <th>57</th>\n",
       "      <td>농소2동 주민센터</td>\n",
       "      <td>N</td>\n",
       "      <td>Y</td>\n",
       "      <td>울산광역시 북구 찬샘1길 24</td>\n",
       "      <td>울산광역시 북구 신천동 203-2</td>\n",
       "      <td>35.638364</td>\n",
       "      <td>129.348396</td>\n",
       "      <td>울산광역시</td>\n",
       "      <td>북구</td>\n",
       "    </tr>\n",
       "    <tr>\n",
       "      <th>58</th>\n",
       "      <td>울산공항</td>\n",
       "      <td>N</td>\n",
       "      <td>Y</td>\n",
       "      <td>울산광역시 북구 산업로 1103</td>\n",
       "      <td>울산광역시 북구 송정동 522</td>\n",
       "      <td>35.593553</td>\n",
       "      <td>129.356480</td>\n",
       "      <td>울산광역시</td>\n",
       "      <td>북구</td>\n",
       "    </tr>\n",
       "  </tbody>\n",
       "</table>\n",
       "</div>"
      ],
      "text/plain": [
       "         충전소명 완속충전가능여부 급속충전가능여부           소재지도로명주소              소재지지번주소  \\\n",
       "56  울산광역시 북구청        N        Y  울산광역시 북구 산업로 1010  울산광역시 북구 연암동 1004-1   \n",
       "57  농소2동 주민센터        N        Y   울산광역시 북구 찬샘1길 24   울산광역시 북구 신천동 203-2   \n",
       "58       울산공항        N        Y  울산광역시 북구 산업로 1103     울산광역시 북구 송정동 522   \n",
       "\n",
       "           위도          경도     시도  구군  \n",
       "56  35.582457  129.361133  울산광역시  북구  \n",
       "57  35.638364  129.348396  울산광역시  북구  \n",
       "58  35.593553  129.356480  울산광역시  북구  "
      ]
     },
     "execution_count": 27,
     "metadata": {},
     "output_type": "execute_result"
    }
   ],
   "source": [
    "ulsan.head(3)"
   ]
  },
  {
   "cell_type": "code",
   "execution_count": 28,
   "metadata": {},
   "outputs": [
    {
     "data": {
      "text/plain": [
       "충전소명         object\n",
       "완속충전가능여부     object\n",
       "급속충전가능여부     object\n",
       "소재지도로명주소     object\n",
       "소재지지번주소      object\n",
       "위도          float64\n",
       "경도          float64\n",
       "시도           object\n",
       "구군           object\n",
       "dtype: object"
      ]
     },
     "execution_count": 28,
     "metadata": {},
     "output_type": "execute_result"
    }
   ],
   "source": [
    "ulsan.dtypes"
   ]
  },
  {
   "cell_type": "code",
   "execution_count": 29,
   "metadata": {},
   "outputs": [
    {
     "data": {
      "image/png": "[encoded data removed]",
      "text/plain": [
       "<Figure size 640x480 with 1 Axes>"
      ]
     },
     "metadata": {},
     "output_type": "display_data"
    },
    {
     "data": {
      "text/plain": [
       "<ggplot: (-9223371917054254255)>"
      ]
     },
     "execution_count": 29,
     "metadata": {},
     "output_type": "execute_result"
    }
   ],
   "source": [
    "(ggplot(ulsan)\n",
    " +aes(x='경도',y='위도',color='충전소명')\n",
    " +geom_point()\n",
    " +theme(text=element_text(family='HYGothic-Medium'))\n",
    ")"
   ]
  },
  {
   "cell_type": "code",
   "execution_count": 30,
   "metadata": {},
   "outputs": [
    {
     "name": "stderr",
     "output_type": "stream",
     "text": [
      "C:\\Users\\namu1\\Anaconda3\\lib\\site-packages\\ipykernel_launcher.py:1: UserWarning: Boolean Series key will be reindexed to match DataFrame index.\n",
      "  \"\"\"Entry point for launching an IPython kernel.\n"
     ]
    }
   ],
   "source": [
    "ulsan_notnull = ulsan[(energy['경도'] > 128)]"
   ]
  },
  {
   "cell_type": "code",
   "execution_count": 31,
   "metadata": {},
   "outputs": [
    {
     "data": {
      "image/png": "[encoded data removed]",
      "text/plain": [
       "<Figure size 640x480 with 1 Axes>"
      ]
     },
     "metadata": {},
     "output_type": "display_data"
    },
    {
     "data": {
      "text/plain": [
       "<ggplot: (119800800818)>"
      ]
     },
     "execution_count": 31,
     "metadata": {},
     "output_type": "execute_result"
    }
   ],
   "source": [
    "(ggplot(ulsan_notnull)\n",
    " +aes(x='경도',y='위도',color='구군')\n",
    " +geom_point()\n",
    " +theme(text=element_text(family='HYGothic-Medium'))\n",
    ")"
   ]
  },
  {
   "cell_type": "code",
   "execution_count": 32,
   "metadata": {},
   "outputs": [
    {
     "data": {
      "text/html": [
       "<div>\n",
       "<style scoped>\n",
       "    .dataframe tbody tr th:only-of-type {\n",
       "        vertical-align: middle;\n",
       "    }\n",
       "\n",
       "    .dataframe tbody tr th {\n",
       "        vertical-align: top;\n",
       "    }\n",
       "\n",
       "    .dataframe thead th {\n",
       "        text-align: right;\n",
       "    }\n",
       "</style>\n",
       "<table border=\"1\" class=\"dataframe\">\n",
       "  <thead>\n",
       "    <tr style=\"text-align: right;\">\n",
       "      <th></th>\n",
       "      <th>충전소명</th>\n",
       "      <th>완속충전가능여부</th>\n",
       "      <th>급속충전가능여부</th>\n",
       "      <th>소재지도로명주소</th>\n",
       "      <th>소재지지번주소</th>\n",
       "      <th>위도</th>\n",
       "      <th>경도</th>\n",
       "      <th>시도</th>\n",
       "      <th>구군</th>\n",
       "    </tr>\n",
       "  </thead>\n",
       "  <tbody>\n",
       "    <tr>\n",
       "      <th>56</th>\n",
       "      <td>울산광역시 북구청</td>\n",
       "      <td>N</td>\n",
       "      <td>Y</td>\n",
       "      <td>울산광역시 북구 산업로 1010</td>\n",
       "      <td>울산광역시 북구 연암동 1004-1</td>\n",
       "      <td>35.582457</td>\n",
       "      <td>129.361133</td>\n",
       "      <td>울산광역시</td>\n",
       "      <td>북구</td>\n",
       "    </tr>\n",
       "    <tr>\n",
       "      <th>57</th>\n",
       "      <td>농소2동 주민센터</td>\n",
       "      <td>N</td>\n",
       "      <td>Y</td>\n",
       "      <td>울산광역시 북구 찬샘1길 24</td>\n",
       "      <td>울산광역시 북구 신천동 203-2</td>\n",
       "      <td>35.638364</td>\n",
       "      <td>129.348396</td>\n",
       "      <td>울산광역시</td>\n",
       "      <td>북구</td>\n",
       "    </tr>\n",
       "    <tr>\n",
       "      <th>58</th>\n",
       "      <td>울산공항</td>\n",
       "      <td>N</td>\n",
       "      <td>Y</td>\n",
       "      <td>울산광역시 북구 산업로 1103</td>\n",
       "      <td>울산광역시 북구 송정동 522</td>\n",
       "      <td>35.593553</td>\n",
       "      <td>129.356480</td>\n",
       "      <td>울산광역시</td>\n",
       "      <td>북구</td>\n",
       "    </tr>\n",
       "  </tbody>\n",
       "</table>\n",
       "</div>"
      ],
      "text/plain": [
       "         충전소명 완속충전가능여부 급속충전가능여부           소재지도로명주소              소재지지번주소  \\\n",
       "56  울산광역시 북구청        N        Y  울산광역시 북구 산업로 1010  울산광역시 북구 연암동 1004-1   \n",
       "57  농소2동 주민센터        N        Y   울산광역시 북구 찬샘1길 24   울산광역시 북구 신천동 203-2   \n",
       "58       울산공항        N        Y  울산광역시 북구 산업로 1103     울산광역시 북구 송정동 522   \n",
       "\n",
       "           위도          경도     시도  구군  \n",
       "56  35.582457  129.361133  울산광역시  북구  \n",
       "57  35.638364  129.348396  울산광역시  북구  \n",
       "58  35.593553  129.356480  울산광역시  북구  "
      ]
     },
     "execution_count": 32,
     "metadata": {},
     "output_type": "execute_result"
    }
   ],
   "source": [
    "ulsan.head(3)"
   ]
  },
  {
   "cell_type": "code",
   "execution_count": 33,
   "metadata": {},
   "outputs": [
    {
     "data": {
      "text/plain": [
       "울주군    36\n",
       "남구     30\n",
       "북구     28\n",
       "중구     10\n",
       "동구      4\n",
       "Name: 구군, dtype: int64"
      ]
     },
     "execution_count": 33,
     "metadata": {},
     "output_type": "execute_result"
    }
   ],
   "source": [
    "ulsan['구군'].value_counts()"
   ]
  },
  {
   "cell_type": "code",
   "execution_count": 34,
   "metadata": {
    "scrolled": false
   },
   "outputs": [
    {
     "data": {
      "text/html": [
       "<div>\n",
       "<style scoped>\n",
       "    .dataframe tbody tr th:only-of-type {\n",
       "        vertical-align: middle;\n",
       "    }\n",
       "\n",
       "    .dataframe tbody tr th {\n",
       "        vertical-align: top;\n",
       "    }\n",
       "\n",
       "    .dataframe thead th {\n",
       "        text-align: right;\n",
       "    }\n",
       "</style>\n",
       "<table border=\"1\" class=\"dataframe\">\n",
       "  <thead>\n",
       "    <tr style=\"text-align: right;\">\n",
       "      <th></th>\n",
       "      <th>구군</th>\n",
       "      <th>합계</th>\n",
       "      <th>비율</th>\n",
       "    </tr>\n",
       "  </thead>\n",
       "  <tbody>\n",
       "    <tr>\n",
       "      <th>0</th>\n",
       "      <td>울주군</td>\n",
       "      <td>36</td>\n",
       "      <td>0.333333</td>\n",
       "    </tr>\n",
       "    <tr>\n",
       "      <th>1</th>\n",
       "      <td>남구</td>\n",
       "      <td>30</td>\n",
       "      <td>0.277778</td>\n",
       "    </tr>\n",
       "    <tr>\n",
       "      <th>2</th>\n",
       "      <td>북구</td>\n",
       "      <td>28</td>\n",
       "      <td>0.259259</td>\n",
       "    </tr>\n",
       "    <tr>\n",
       "      <th>3</th>\n",
       "      <td>중구</td>\n",
       "      <td>10</td>\n",
       "      <td>0.092593</td>\n",
       "    </tr>\n",
       "    <tr>\n",
       "      <th>4</th>\n",
       "      <td>동구</td>\n",
       "      <td>4</td>\n",
       "      <td>0.037037</td>\n",
       "    </tr>\n",
       "  </tbody>\n",
       "</table>\n",
       "</div>"
      ],
      "text/plain": [
       "    구군  합계        비율\n",
       "0  울주군  36  0.333333\n",
       "1   남구  30  0.277778\n",
       "2   북구  28  0.259259\n",
       "3   중구  10  0.092593\n",
       "4   동구   4  0.037037"
      ]
     },
     "execution_count": 34,
     "metadata": {},
     "output_type": "execute_result"
    }
   ],
   "source": [
    "ulsan_gugun = pd.DataFrame(ulsan['구군'].value_counts())\n",
    "ulsan_gugun_normalize = pd.DataFrame(ulsan['구군'].value_counts(normalize=True))\n",
    "ulsan_gugun = ulsan_gugun.merge(ulsan_gugun_normalize, left_index=True, right_index=True).reset_index()\n",
    "ulsan_gugun.columns = ['구군','합계','비율']\n",
    "ulsan_gugun.sort_values(by=['합계'], ascending=False)\n",
    "ulsan_gugun"
   ]
  },
  {
   "cell_type": "code",
   "execution_count": 35,
   "metadata": {},
   "outputs": [
    {
     "data": {
      "image/png": "[encoded data removed]",
      "text/plain": [
       "<Figure size 640x480 with 1 Axes>"
      ]
     },
     "metadata": {},
     "output_type": "display_data"
    },
    {
     "data": {
      "text/plain": [
       "<ggplot: (-9223371917052724676)>"
      ]
     },
     "execution_count": 35,
     "metadata": {},
     "output_type": "execute_result"
    }
   ],
   "source": [
    "(ggplot(ulsan_gugun.sort_values(by=['합계'], ascending=False))\n",
    " + aes(x='구군', y='합계')\n",
    " + geom_bar(stat='identity',position='dodge',fill='orange')\n",
    " + coord_flip()\n",
    " + theme(text=element_text(family='HYGothic-Medium'))\n",
    ")"
   ]
  }
 ],
 "metadata": {
  "kernelspec": {
   "display_name": "Python 3",
   "language": "python",
   "name": "python3"
  },
  "language_info": {
   "codemirror_mode": {
    "name": "ipython",
    "version": 3
   },
   "file_extension": ".py",
   "mimetype": "text/x-python",
   "name": "python",
   "nbconvert_exporter": "python",
   "pygments_lexer": "ipython3",
   "version": "3.7.1"
  }
 },
 "nbformat": 4,
 "nbformat_minor": 2
}
